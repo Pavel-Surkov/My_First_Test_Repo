{
  "nbformat": 4,
  "nbformat_minor": 0,
  "metadata": {
    "colab": {
      "name": "Pasha and Maxim.ipynb",
      "provenance": [],
      "collapsed_sections": [],
      "include_colab_link": true
    },
    "kernelspec": {
      "name": "python3",
      "display_name": "Python 3"
    },
    "language_info": {
      "name": "python"
    }
  },
  "cells": [
    {
      "cell_type": "markdown",
      "metadata": {
        "id": "view-in-github",
        "colab_type": "text"
      },
      "source": [
        "<a href=\"https://colab.research.google.com/github/Pavel-Surkov/My_First_Test_Repo/blob/upload-file/Pasha_and_Maxim.ipynb\" target=\"_parent\"><img src=\"https://colab.research.google.com/assets/colab-badge.svg\" alt=\"Open In Colab\"/></a>"
      ]
    },
    {
      "cell_type": "markdown",
      "metadata": {
        "id": "FayPrCRXV2Un"
      },
      "source": [
        "## Пример использования Markdown\n",
        "\n",
        "Нужно сделать:\n",
        "\n",
        "1. Список\n",
        "2. Рисунок\n",
        "3. Таблицу\n",
        "4. Ссылку\n",
        "\n",
        "\n",
        "![НГТУ](https://f1consultant.ru/file/index-events/October2018/nWfY4uUFWOK9IA2QWuak.jpg)\n",
        "\n",
        "\n",
        "| A       | B          | C      |\n",
        "| --------|:----------:| ------:|\n",
        "| 100     | 23         | 22     |\n",
        "| 200     | 33         | 11     |\n",
        "\n",
        "\n",
        "...\n",
        "\n",
        " [ссылка куда-то](http://example.com/link \"Я ссылка\")\n"
      ]
    },
    {
      "cell_type": "markdown",
      "metadata": {
        "id": "EEolg4cuWzBX"
      },
      "source": [
        ""
      ]
    }
  ]
}